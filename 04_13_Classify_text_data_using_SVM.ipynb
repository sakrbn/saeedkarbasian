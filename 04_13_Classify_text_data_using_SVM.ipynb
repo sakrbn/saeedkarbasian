{
  "nbformat": 4,
  "nbformat_minor": 0,
  "metadata": {
    "colab": {
      "provenance": [],
      "gpuType": "T4",
      "include_colab_link": true
    },
    "kernelspec": {
      "name": "python3",
      "display_name": "Python 3"
    },
    "language_info": {
      "name": "python"
    },
    "accelerator": "GPU"
  },
  "cells": [
    {
      "cell_type": "markdown",
      "metadata": {
        "id": "view-in-github",
        "colab_type": "text"
      },
      "source": [
        "<a href=\"https://colab.research.google.com/github/sakrbn/saeedkarbasian/blob/NLP/04_13_Classify_text_data_using_SVM.ipynb\" target=\"_parent\"><img src=\"https://colab.research.google.com/assets/colab-badge.svg\" alt=\"Open In Colab\"/></a>"
      ]
    },
    {
      "cell_type": "code",
      "source": [
        "from sklearn.datasets import fetch_20newsgroups\n",
        "from sklearn.feature_extraction.text import TfidfVectorizer\n",
        "from sklearn.model_selection import train_test_split\n",
        "from sklearn.svm import SVC\n",
        "\n",
        "# Load the dataset: The 20 Newsgroups dataset contains text data from 20 different categories.\n",
        "newsgroups = fetch_20newsgroups(subset='all')\n",
        "texts, labels = newsgroups.data, newsgroups.target\n",
        "\n",
        "# Split the dataset into training and testing sets:\n",
        "# - X_train: Training texts\n",
        "# - X_test: Testing texts\n",
        "# - y_train: Training labels\n",
        "# - y_test: Testing labels\n",
        "X_train, X_test, y_train, y_test = train_test_split(texts, labels, test_size=0.2, random_state=42)\n",
        "\n",
        "# Convert text data into numerical format using TF-IDF vectorization:\n",
        "# TF-IDF stands for Term Frequency-Inverse Document Frequency, which is a common technique to represent text data numerically.\n",
        "vectorizer = TfidfVectorizer(max_features=5000)\n",
        "X_train_tfidf = vectorizer.fit_transform(X_train)  # Fit the vectorizer on training data and transform it\n",
        "X_test_tfidf = vectorizer.transform(X_test)       # Transform the test data using the same vectorizer\n",
        "\n",
        "# Train an SVM (Support Vector Machine) model:\n",
        "# SVM is a supervised learning algorithm used for classification tasks.\n",
        "svm = SVC(kernel='linear', C=1.0, random_state=42)\n",
        "svm.fit(X_train_tfidf, y_train)  # Train the model on the training data\n",
        "\n",
        "# Define a test document:\n",
        "# This is a sample text that we want to classify into one of the 20 categories.\n",
        "test_doc = [\"Natural language Processing is an interesting research area in AI\"]\n",
        "\n",
        "# Transform the test document into TF-IDF format:\n",
        "# The same vectorizer used for training data is applied here to ensure consistency.\n",
        "test_doc_tfidf = vectorizer.transform(test_doc)\n",
        "\n",
        "# Predict the category of the test document using the trained SVM model:\n",
        "# The model predicts the label (category) for the given test document.\n",
        "test_pred = svm.predict(test_doc_tfidf)\n",
        "\n",
        "# Display the predicted category:\n",
        "# The predicted label is converted into the corresponding category name using `target_names`.\n",
        "print(\"Predicted Label:\", test_pred[0])  # Print the numerical label\n",
        "print(\"Category Name:\", newsgroups.target_names[test_pred[0]])  # Map the label to its category name"
      ],
      "metadata": {
        "colab": {
          "base_uri": "https://localhost:8080/"
        },
        "id": "Jdl8vZYC1eIa",
        "outputId": "9b3230ab-c046-463f-88cd-519f0a3a52e1"
      },
      "execution_count": 25,
      "outputs": [
        {
          "output_type": "stream",
          "name": "stdout",
          "text": [
            "Predicted Label: 13\n",
            "Category Name: sci.med\n"
          ]
        }
      ]
    }
  ]
}